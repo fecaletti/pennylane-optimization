{
 "cells": [
  {
   "cell_type": "code",
   "execution_count": 3,
   "metadata": {},
   "outputs": [
    {
     "name": "stdout",
     "output_type": "stream",
     "text": [
      "0: ──RY(0.79)──RZ(0.43)──╭●──────────────╭●────┤  <Y>\n",
      "1: ──RY(1.05)──RZ(-0.12)─╰X─╭●──RY(0.54)─╰X─╭●─┤     \n",
      "2: ──RY(0.45)───────────────╰X──RX(0.23)────╰X─┤     \n"
     ]
    }
   ],
   "source": [
    "import pennylane as qml\n",
    "from pennylane import numpy as np\n",
    "\n",
    "dev = qml.device(\"default.qubit\", wires=3)\n",
    "\n",
    "\n",
    "@qml.qnode(dev)\n",
    "def circuit(params):\n",
    "    # |psi_0>: state preparation\n",
    "    qml.RY(np.pi / 4, wires=0)\n",
    "    qml.RY(np.pi / 3, wires=1)\n",
    "    qml.RY(np.pi / 7, wires=2)\n",
    "\n",
    "    # V0(theta0, theta1): Parametrized layer 0\n",
    "    qml.RZ(params[0], wires=0)\n",
    "    qml.RZ(params[1], wires=1)\n",
    "\n",
    "    # W1: non-parametrized gates\n",
    "    qml.CNOT(wires=[0, 1])\n",
    "    qml.CNOT(wires=[1, 2])\n",
    "\n",
    "    # V_1(theta2, theta3): Parametrized layer 1\n",
    "    qml.RY(params[2], wires=1)\n",
    "    qml.RX(params[3], wires=2)\n",
    "\n",
    "    # W2: non-parametrized gates\n",
    "    qml.CNOT(wires=[0, 1])\n",
    "    qml.CNOT(wires=[1, 2])\n",
    "\n",
    "    return qml.expval(qml.PauliY(0))\n",
    "\n",
    "\n",
    "params = np.array([0.432, -0.123, 0.543, 0.233])\n",
    "print(qml.draw(circuit)(params))"
   ]
  },
  {
   "cell_type": "code",
   "execution_count": 4,
   "metadata": {},
   "outputs": [
    {
     "name": "stdout",
     "output_type": "stream",
     "text": [
      "0.0747230475052495\n"
     ]
    }
   ],
   "source": [
    "result = circuit(params)\n",
    "print(result)"
   ]
  },
  {
   "cell_type": "code",
   "execution_count": 5,
   "metadata": {},
   "outputs": [],
   "source": [
    "g0 = np.zeros([2, 2])\n",
    "\n",
    "\n",
    "def layer0_subcircuit(params):\n",
    "    \"\"\"This function contains all gates that\n",
    "    precede parametrized layer 0\"\"\"\n",
    "    qml.RY(np.pi / 4, wires=0)\n",
    "    qml.RY(np.pi / 3, wires=1)\n",
    "    qml.RY(np.pi / 7, wires=2)"
   ]
  },
  {
   "cell_type": "code",
   "execution_count": 40,
   "metadata": {},
   "outputs": [
    {
     "name": "stdout",
     "output_type": "stream",
     "text": [
      "0.12499999999999994\n",
      "0.18749999999999994\n",
      "[[0.125  0.    ]\n",
      " [0.     0.1875]]\n"
     ]
    }
   ],
   "source": [
    "@qml.qnode(dev)\n",
    "def layer0_diag(params):\n",
    "    layer0_subcircuit(params)\n",
    "    return qml.var(qml.PauliZ(0)), qml.var(qml.PauliZ(1)) ## Why var and not expval??\n",
    "    #qml.var -> returns the variance of the supplied observable\n",
    "    #qml.expval -> returns the expectation value of the supplied observable\n",
    "\n",
    "# @qml.qnode(dev)\n",
    "# def layer0_diag_custom(params):\n",
    "#     layer0_subcircuit(params)\n",
    "#     return qml.expval(qml.PauliZ(0)), qml.var(qml.PauliZ(1)) ## Why var and not expval??\n",
    "\n",
    "\n",
    "# calculate the diagonal terms\n",
    "varK0, varK1 = layer0_diag(params)\n",
    "# varJ0, varJ1 = layer0_diag_custom(params)\n",
    "g0[0, 0] = varK0 / 4\n",
    "g0[1, 1] = varK1 / 4\n",
    "\n",
    "print(varK0 / 4)\n",
    "print(varK1 / 4)\n",
    "print(g0)\n",
    "# print(varJ0)\n",
    "# print(varJ1)"
   ]
  },
  {
   "cell_type": "code",
   "execution_count": 39,
   "metadata": {},
   "outputs": [
    {
     "name": "stdout",
     "output_type": "stream",
     "text": [
      "-0.47942553860420284\n",
      "0.7701511529340698\n"
     ]
    }
   ],
   "source": [
    "dev2 = qml.device(\"default.qubit\", wires=1)\n",
    "\n",
    "@qml.qnode(dev2)\n",
    "def subcirc_test(params):\n",
    "    \"\"\"This function contains all gates that\n",
    "    precede parametrized layer 0\"\"\"\n",
    "    qml.RX(0.5, wires=0)\n",
    "    # qml.X(wires=0)\n",
    "    return qml.expval(qml.PauliY(0))\n",
    "\n",
    "@qml.qnode(dev2)\n",
    "def subcirc_test2(params):\n",
    "    \"\"\"This function contains all gates that\n",
    "    precede parametrized layer 0\"\"\"\n",
    "    qml.RX(0.5, wires=0)\n",
    "    return qml.var(qml.PauliY(0))\n",
    "\n",
    "v1 = subcirc_test(params)\n",
    "v2 = subcirc_test2(params)\n",
    "\n",
    "print(v1)\n",
    "print(v2)"
   ]
  },
  {
   "cell_type": "code",
   "execution_count": 41,
   "metadata": {},
   "outputs": [],
   "source": [
    "@qml.qnode(dev)\n",
    "def layer0_off_diag_single(params):\n",
    "    layer0_subcircuit(params)\n",
    "    return qml.expval(qml.PauliZ(0)), qml.expval(qml.PauliZ(1))\n",
    "\n",
    "@qml.qnode(dev)\n",
    "def layer0_off_diag_double(params):\n",
    "    layer0_subcircuit(params)\n",
    "    ZZ = np.kron(np.diag([1, -1]), np.diag([1, -1]))\n",
    "    return qml.expval(qml.Hermitian(ZZ, wires=[0, 1]))\n",
    "\n",
    "\n",
    "# calculate the off-diagonal terms\n",
    "exK0, exK1 = layer0_off_diag_single(params)\n",
    "exK0K1 = layer0_off_diag_double(params)\n",
    "\n",
    "g0[0, 1] = (exK0K1 - exK0 * exK1) / 4\n",
    "g0[1, 0] = (exK0K1 - exK0 * exK1) / 4"
   ]
  },
  {
   "cell_type": "code",
   "execution_count": 42,
   "metadata": {},
   "outputs": [],
   "source": [
    "g1 = np.zeros([2, 2])\n",
    "\n",
    "\n",
    "def layer1_subcircuit(params):\n",
    "    \"\"\"This function contains all gates that\n",
    "    precede parametrized layer 1\"\"\"\n",
    "    # |psi_0>: state preparation\n",
    "    qml.RY(np.pi / 4, wires=0)\n",
    "    qml.RY(np.pi / 3, wires=1)\n",
    "    qml.RY(np.pi / 7, wires=2)\n",
    "\n",
    "    # V0(theta0, theta1): Parametrized layer 0\n",
    "    qml.RZ(params[0], wires=0)\n",
    "    qml.RZ(params[1], wires=1)\n",
    "\n",
    "    # W1: non-parametrized gates\n",
    "    qml.CNOT(wires=[0, 1])\n",
    "    qml.CNOT(wires=[1, 2])"
   ]
  },
  {
   "cell_type": "code",
   "execution_count": 43,
   "metadata": {},
   "outputs": [],
   "source": [
    "@qml.qnode(dev)\n",
    "def layer1_diag(params):\n",
    "    layer1_subcircuit(params)\n",
    "    return qml.var(qml.PauliY(1)), qml.var(qml.PauliX(2))"
   ]
  },
  {
   "cell_type": "code",
   "execution_count": 44,
   "metadata": {},
   "outputs": [],
   "source": [
    "varK0, varK1 = layer1_diag(params)\n",
    "g1[0, 0] = varK0 / 4\n",
    "g1[1, 1] = varK1 / 4"
   ]
  },
  {
   "cell_type": "code",
   "execution_count": 45,
   "metadata": {},
   "outputs": [],
   "source": [
    "@qml.qnode(dev)\n",
    "def layer1_off_diag_single(params):\n",
    "    layer1_subcircuit(params)\n",
    "    return qml.expval(qml.PauliY(1)), qml.expval(qml.PauliX(2))\n",
    "\n",
    "\n",
    "@qml.qnode(dev)\n",
    "def layer1_off_diag_double(params):\n",
    "    layer1_subcircuit(params)\n",
    "    X = np.array([[0, 1], [1, 0]])\n",
    "    Y = np.array([[0, -1j], [1j, 0]])\n",
    "    YX = np.kron(Y, X)\n",
    "    return qml.expval(qml.Hermitian(YX, wires=[1, 2]))\n",
    "\n",
    "\n",
    "# calculate the off-diagonal terms\n",
    "exK0, exK1 = layer1_off_diag_single(params)\n",
    "exK0K1 = layer1_off_diag_double(params)\n",
    "\n",
    "g1[0, 1] = (exK0K1 - exK0 * exK1) / 4\n",
    "g1[1, 0] = g1[0, 1]"
   ]
  },
  {
   "cell_type": "code",
   "execution_count": 46,
   "metadata": {},
   "outputs": [
    {
     "name": "stdout",
     "output_type": "stream",
     "text": [
      "[[ 0.125      -0.          0.          0.        ]\n",
      " [-0.          0.1875      0.          0.        ]\n",
      " [ 0.          0.          0.24973433 -0.01524701]\n",
      " [ 0.          0.         -0.01524701  0.20293623]]\n"
     ]
    }
   ],
   "source": [
    "from scipy.linalg import block_diag\n",
    "\n",
    "g = block_diag(g0, g1)\n",
    "print(np.round(g, 8))"
   ]
  },
  {
   "cell_type": "code",
   "execution_count": 47,
   "metadata": {},
   "outputs": [
    {
     "name": "stdout",
     "output_type": "stream",
     "text": [
      "[[ 0.125       0.          0.          0.        ]\n",
      " [ 0.          0.1875      0.          0.        ]\n",
      " [ 0.          0.          0.24973433 -0.01524701]\n",
      " [ 0.          0.         -0.01524701  0.20293623]]\n"
     ]
    }
   ],
   "source": [
    "print(np.round(qml.metric_tensor(circuit, approx=\"block-diag\")(params), 8))"
   ]
  },
  {
   "cell_type": "code",
   "execution_count": 48,
   "metadata": {},
   "outputs": [
    {
     "name": "stdout",
     "output_type": "stream",
     "text": [
      "[[0.125      0.         0.         0.        ]\n",
      " [0.         0.1875     0.         0.        ]\n",
      " [0.         0.         0.24973433 0.        ]\n",
      " [0.         0.         0.         0.20293623]]\n"
     ]
    }
   ],
   "source": [
    "print(qml.metric_tensor(circuit, approx='diag')(params))"
   ]
  },
  {
   "cell_type": "code",
   "execution_count": 49,
   "metadata": {},
   "outputs": [],
   "source": [
    "steps = 200\n",
    "init_params = np.array([0.432, -0.123, 0.543, 0.233], requires_grad=True)"
   ]
  },
  {
   "cell_type": "code",
   "execution_count": 53,
   "metadata": {},
   "outputs": [],
   "source": [
    "gd_cost = []\n",
    "opt = qml.GradientDescentOptimizer(0.01)\n",
    "\n",
    "theta = init_params\n",
    "for _ in range(steps):\n",
    "    theta = opt.step(circuit, theta)\n",
    "    gd_cost.append(circuit(theta))"
   ]
  },
  {
   "cell_type": "code",
   "execution_count": 51,
   "metadata": {},
   "outputs": [],
   "source": [
    "qng_cost = []\n",
    "opt = qml.QNGOptimizer(0.01)\n",
    "\n",
    "theta = init_params\n",
    "for _ in range(steps):\n",
    "    theta = opt.step(circuit, theta)\n",
    "    qng_cost.append(circuit(theta))"
   ]
  },
  {
   "cell_type": "code",
   "execution_count": 52,
   "metadata": {},
   "outputs": [
    {
     "name": "stderr",
     "output_type": "stream",
     "text": [
      "/var/folders/pw/32nbfc552rjgfjxrmmf417g00000gn/T/ipykernel_3779/1291127154.py:3: MatplotlibDeprecationWarning: The seaborn styles shipped by Matplotlib are deprecated since 3.6, as they no longer correspond to the styles shipped by seaborn. However, they will remain available as 'seaborn-v0_8-<style>'. Alternatively, directly use the seaborn API instead.\n",
      "  plt.style.use(\"seaborn\")\n"
     ]
    },
    {
     "data": {
      "image/png": "[encoded data removed]",
      "text/plain": [
       "<Figure size 800x550 with 1 Axes>"
      ]
     },
     "metadata": {},
     "output_type": "display_data"
    }
   ],
   "source": [
    "from matplotlib import pyplot as plt\n",
    "\n",
    "plt.style.use(\"seaborn\")\n",
    "plt.plot(gd_cost, \"b\", label=\"Vanilla gradient descent\")\n",
    "plt.plot(qng_cost, \"g\", label=\"Quantum natural gradient descent\")\n",
    "\n",
    "plt.ylabel(\"Cost function value\")\n",
    "plt.xlabel(\"Optimization steps\")\n",
    "plt.legend()\n",
    "plt.show()"
   ]
  }
 ],
 "metadata": {
  "kernelspec": {
   "display_name": "Python 3.10.8 ('env': venv)",
   "language": "python",
   "name": "python3"
  },
  "language_info": {
   "codemirror_mode": {
    "name": "ipython",
    "version": 3
   },
   "file_extension": ".py",
   "mimetype": "text/x-python",
   "name": "python",
   "nbconvert_exporter": "python",
   "pygments_lexer": "ipython3",
   "version": "3.10.8"
  },
  "orig_nbformat": 4,
  "vscode": {
   "interpreter": {
    "hash": "f66055f1e5775ca384cf27db3ed2de99a7a360494bd2c724d6fbb291195f83e6"
   }
  }
 },
 "nbformat": 4,
 "nbformat_minor": 2
}
